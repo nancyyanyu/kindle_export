{
 "cells": [
  {
   "cell_type": "code",
   "execution_count": 3,
   "metadata": {
    "ExecuteTime": {
     "end_time": "2021-05-23T07:54:53.695347Z",
     "start_time": "2021-05-23T07:54:53.497036Z"
    }
   },
   "outputs": [],
   "source": [
    "import os\n",
    "import re\n",
    "import sys\n",
    "import time\n",
    "import urllib\n",
    "import string\n",
    "import argparse\n",
    "import platform\n",
    "import requests\n",
    "import sqlite3\n",
    "import subprocess\n",
    "import pandas as pd\n",
    "import numpy as np\n",
    "from googletrans import Translator\n",
    "from os.path import expanduser\n",
    "from lxml import html\n",
    "\n",
    "HOME= expanduser(\"~\")"
   ]
  },
  {
   "cell_type": "code",
   "execution_count": 19,
   "metadata": {
    "ExecuteTime": {
     "end_time": "2021-05-23T08:07:50.581225Z",
     "start_time": "2021-05-23T08:07:50.569035Z"
    }
   },
   "outputs": [],
   "source": [
    "vocab_dir = \"/Volumes/Kindle/system/vocabulary/vocab.db\"\n",
    "clip_dir = \"/Volumes/Kindle/documents/My Clippings.txt\"\n",
    "con = sqlite3.connect(vocab_dir)\n",
    "cur = con.cursor()\n",
    "\n",
    "def fetch_bookname():\n",
    "    cur.execute('''select title from BOOK_INFO;''')\n",
    "    bn = cur.fetchall()\n",
    "    return bn\n",
    "\n",
    "def fetch_words(book):\n",
    "    q_word = \"\"\"select ta.word,ta.stem, tb.usage from ((select  id, word, stem from WORDS) ta inner join (select word_key,usage from LOOKUPS where book_key=(select id from BOOK_INFO where title=\"{book_name}\") ) tb on ta.id==tb.word_key) ;\"\"\".format(book_name=book)\n",
    "    cur.execute(q_word)\n",
    "    data = cur.fetchall()\n",
    "    words = pd.DataFrame(data,columns = ['word','stem','usage'])\n",
    "    return words\n",
    "\n",
    "def eng_to_cn(word,src = 'youdao'):\n",
    "    if src =='youdao':\n",
    "        url = \"https://www.youdao.com/w/{}/#keyfrom=dict2.top\".format(urllib.parse.quote(word))\n",
    "        page = requests.get(url)\n",
    "        tree = html.fromstring(page.content)\n",
    "        xpath = '//*[@id=\"phrsListTab\"]//div[@class=\"trans-container\"]/ul/li/text()'\n",
    "        output = tree.xpath(xpath)\n",
    "        if output!=[]:\n",
    "            return ',\\n'.join(output)\n",
    "        else:\n",
    "            xpath = '//div[@id=\"tWebTrans\"]/div[not(@id)]//div[@class=\"title\"]//span/text()'\n",
    "            output = tree.xpath(xpath)\n",
    "        if output!=[]:\n",
    "            return ',\\n'.join(output)\n",
    "        else:\n",
    "            return ''\n",
    "        \n",
    "    elif src =='google':\n",
    "        translator = Translator()\n",
    "        output = translator.translate(word, dest='zh-cn').text\n",
    "        return output\n",
    "\n",
    "\n",
    "def fetch_note(book):\n",
    "    text = []\n",
    "    with open(clip_dir,'r') as f:\n",
    "        for highlight in f.read().split(\"==========\"):\n",
    "            lines = highlight.split(\"\\n\")[1:]\n",
    "            if len(lines) < 3 or lines[3] == \"\":\n",
    "                continue\n",
    "            title = lines[0]\n",
    "            if title[0] == \"\\ufeff\":\n",
    "                title = title[1:]\n",
    "            if title.startswith(book):\n",
    "                text.append(lines[3])\n",
    "    note = pd.DataFrame(np.array([text]).transpose(),columns=['note'])\n",
    "    note['title']=book\n",
    "    return note"
   ]
  },
  {
   "cell_type": "code",
   "execution_count": 33,
   "metadata": {
    "ExecuteTime": {
     "end_time": "2021-05-23T08:20:15.857220Z",
     "start_time": "2021-05-23T08:20:09.654646Z"
    }
   },
   "outputs": [
    {
     "name": "stdout",
     "output_type": "stream",
     "text": [
      "Books:\n",
      "=========\n",
      "0. 羊をめぐる冒険\n",
      "1. The Rise and Fall of American Growth (The Princeton Economic History of the Western World)\n",
      "2. The Human Tide\n",
      "3. ノルウェイの森 (講談社文庫)\n",
      "4. Seeing Like a State: How Certain Schemes to Improve the Human Condition Have Failed (The Institution for Social and Policy St)\n",
      "5. No Filter\n",
      "6. Two Cheers for Anarchism\n",
      "=========\n",
      "\n",
      "Which book do you want to query? (Insert book index) 6\n",
      "Two Cheers for Anarchism\n",
      "\n",
      "=========\n",
      "\n",
      "Words list is fetched. Do you want to translate all the words? [y/n]y\n",
      "Translation is completed.\n",
      "Words directory: /Users/yan/Two Cheers for Anarchism Word.csv\n",
      "\n",
      "=========\n",
      "\n",
      "Notes are fetched. Do you want to translate them all? [y/n]y\n",
      "Translation is completed.\n",
      "Notes directory: /Users/yan/Two Cheers for Anarchism Note.csv\n",
      "\n",
      "=========\n"
     ]
    }
   ],
   "source": [
    "def main():\n",
    "    bn = fetch_bookname()\n",
    "    bn_op = [\"{}. {}\".format(i,b[0]) for i, b in enumerate(bn)]\n",
    "    print(\"Books:\")\n",
    "    print(\"=========\")\n",
    "    print('\\n'.join(bn_op))\n",
    "    print(\"=========\")\n",
    "\n",
    "    print()\n",
    "    book = bn[int(input(\"Which book do you want to query? (Insert book index) \"))][0]\n",
    "    print(book)\n",
    "    note = fetch_note(book).head(1)\n",
    "    words = fetch_words(book).head(1)\n",
    "    print()\n",
    "    print(\"=========\")\n",
    "\n",
    "    print()\n",
    "    if_trans = input(\"Words list is fetched. Do you want to translate all the words? [y/n]\")\n",
    "    if if_trans=='y':\n",
    "        words['trans'] = words['stem'].apply(eng_to_cn)\n",
    "        print(\"Translation is completed.\")\n",
    "    word_dir = os.path.join(HOME,book+' Word.csv')\n",
    "    words.to_csv(word_dir,index=False)\n",
    "    print(\"Words directory: \"+word_dir)\n",
    "    print()\n",
    "    print(\"=========\")\n",
    "\n",
    "    print()\n",
    "    if_trans_note = input(\"Notes are fetched. Do you want to translate them all? [y/n]\")\n",
    "    if if_trans_note=='y':\n",
    "        note['len_'] = note['note'].str.strip(string.punctuation).str.split().apply(len)\n",
    "        note.loc[note['len_']==1,'trans'] = note.loc[note['len_']==1,'note'].apply(lambda x: eng_to_cn(x,'youdao'))\n",
    "        note.loc[note['len_']>1,'trans']  = note.loc[note['len_']>1,'note'].apply(lambda x: eng_to_cn(x,'google'))\n",
    "        del note['len_']\n",
    "        print(\"Translation is completed.\")\n",
    "    note_dir = os.path.join(HOME,book+' Note.csv')\n",
    "    note.to_csv(note_dir,index=False)\n",
    "    print(\"Notes directory: \"+note_dir)\n",
    "    print()\n",
    "    print(\"=========\")"
   ]
  },
  {
   "cell_type": "code",
   "execution_count": 21,
   "metadata": {
    "ExecuteTime": {
     "end_time": "2021-05-23T08:08:36.519638Z",
     "start_time": "2021-05-23T08:08:36.514781Z"
    }
   },
   "outputs": [],
   "source": []
  },
  {
   "cell_type": "code",
   "execution_count": 22,
   "metadata": {
    "ExecuteTime": {
     "end_time": "2021-05-23T08:08:37.113699Z",
     "start_time": "2021-05-23T08:08:37.110636Z"
    }
   },
   "outputs": [],
   "source": [
    "note = note.head(10)"
   ]
  },
  {
   "cell_type": "code",
   "execution_count": 23,
   "metadata": {
    "ExecuteTime": {
     "end_time": "2021-05-23T08:08:38.480438Z",
     "start_time": "2021-05-23T08:08:38.472146Z"
    }
   },
   "outputs": [
    {
     "data": {
      "text/html": [
       "<div>\n",
       "<style scoped>\n",
       "    .dataframe tbody tr th:only-of-type {\n",
       "        vertical-align: middle;\n",
       "    }\n",
       "\n",
       "    .dataframe tbody tr th {\n",
       "        vertical-align: top;\n",
       "    }\n",
       "\n",
       "    .dataframe thead th {\n",
       "        text-align: right;\n",
       "    }\n",
       "</style>\n",
       "<table border=\"1\" class=\"dataframe\">\n",
       "  <thead>\n",
       "    <tr style=\"text-align: right;\">\n",
       "      <th></th>\n",
       "      <th>note</th>\n",
       "      <th>title</th>\n",
       "      <th>len_</th>\n",
       "    </tr>\n",
       "  </thead>\n",
       "  <tbody>\n",
       "    <tr>\n",
       "      <th>0</th>\n",
       "      <td>revolution ended by creating a state more powe...</td>\n",
       "      <td>Two Cheers for Anarchism</td>\n",
       "      <td>38</td>\n",
       "    </tr>\n",
       "    <tr>\n",
       "      <th>1</th>\n",
       "      <td>bear out the adage of</td>\n",
       "      <td>Two Cheers for Anarchism</td>\n",
       "      <td>5</td>\n",
       "    </tr>\n",
       "    <tr>\n",
       "      <th>2</th>\n",
       "      <td>“Freedom without socialism is privilege</td>\n",
       "      <td>Two Cheers for Anarchism</td>\n",
       "      <td>5</td>\n",
       "    </tr>\n",
       "    <tr>\n",
       "      <th>3</th>\n",
       "      <td>and injustice; socialism without freedom is sl...</td>\n",
       "      <td>Two Cheers for Anarchism</td>\n",
       "      <td>9</td>\n",
       "    </tr>\n",
       "    <tr>\n",
       "      <th>4</th>\n",
       "      <td>nomothetic</td>\n",
       "      <td>Two Cheers for Anarchism</td>\n",
       "      <td>1</td>\n",
       "    </tr>\n",
       "    <tr>\n",
       "      <th>5</th>\n",
       "      <td>wary</td>\n",
       "      <td>Two Cheers for Anarchism</td>\n",
       "      <td>1</td>\n",
       "    </tr>\n",
       "    <tr>\n",
       "      <th>6</th>\n",
       "      <td>One thing that heaves into view,</td>\n",
       "      <td>Two Cheers for Anarchism</td>\n",
       "      <td>6</td>\n",
       "    </tr>\n",
       "    <tr>\n",
       "      <th>7</th>\n",
       "      <td>In light of the</td>\n",
       "      <td>Two Cheers for Anarchism</td>\n",
       "      <td>4</td>\n",
       "    </tr>\n",
       "    <tr>\n",
       "      <th>8</th>\n",
       "      <td>huge strides</td>\n",
       "      <td>Two Cheers for Anarchism</td>\n",
       "      <td>2</td>\n",
       "    </tr>\n",
       "    <tr>\n",
       "      <th>9</th>\n",
       "      <td>There is no authentic freedom where huge diffe...</td>\n",
       "      <td>Two Cheers for Anarchism</td>\n",
       "      <td>18</td>\n",
       "    </tr>\n",
       "  </tbody>\n",
       "</table>\n",
       "</div>"
      ],
      "text/plain": [
       "                                                note  \\\n",
       "0  revolution ended by creating a state more powe...   \n",
       "1                              bear out the adage of   \n",
       "2            “Freedom without socialism is privilege   \n",
       "3  and injustice; socialism without freedom is sl...   \n",
       "4                                         nomothetic   \n",
       "5                                               wary   \n",
       "6                   One thing that heaves into view,   \n",
       "7                                    In light of the   \n",
       "8                                       huge strides   \n",
       "9  There is no authentic freedom where huge diffe...   \n",
       "\n",
       "                      title  len_  \n",
       "0  Two Cheers for Anarchism    38  \n",
       "1  Two Cheers for Anarchism     5  \n",
       "2  Two Cheers for Anarchism     5  \n",
       "3  Two Cheers for Anarchism     9  \n",
       "4  Two Cheers for Anarchism     1  \n",
       "5  Two Cheers for Anarchism     1  \n",
       "6  Two Cheers for Anarchism     6  \n",
       "7  Two Cheers for Anarchism     4  \n",
       "8  Two Cheers for Anarchism     2  \n",
       "9  Two Cheers for Anarchism    18  "
      ]
     },
     "execution_count": 23,
     "metadata": {},
     "output_type": "execute_result"
    }
   ],
   "source": [
    "note"
   ]
  },
  {
   "cell_type": "code",
   "execution_count": 28,
   "metadata": {
    "ExecuteTime": {
     "end_time": "2021-05-23T08:09:42.261304Z",
     "start_time": "2021-05-23T08:09:39.910261Z"
    }
   },
   "outputs": [],
   "source": []
  },
  {
   "cell_type": "code",
   "execution_count": 30,
   "metadata": {
    "ExecuteTime": {
     "end_time": "2021-05-23T08:09:43.034605Z",
     "start_time": "2021-05-23T08:09:43.025384Z"
    }
   },
   "outputs": [
    {
     "data": {
      "text/html": [
       "<div>\n",
       "<style scoped>\n",
       "    .dataframe tbody tr th:only-of-type {\n",
       "        vertical-align: middle;\n",
       "    }\n",
       "\n",
       "    .dataframe tbody tr th {\n",
       "        vertical-align: top;\n",
       "    }\n",
       "\n",
       "    .dataframe thead th {\n",
       "        text-align: right;\n",
       "    }\n",
       "</style>\n",
       "<table border=\"1\" class=\"dataframe\">\n",
       "  <thead>\n",
       "    <tr style=\"text-align: right;\">\n",
       "      <th></th>\n",
       "      <th>note</th>\n",
       "      <th>title</th>\n",
       "      <th>len_</th>\n",
       "      <th>trans</th>\n",
       "    </tr>\n",
       "  </thead>\n",
       "  <tbody>\n",
       "    <tr>\n",
       "      <th>0</th>\n",
       "      <td>revolution ended by creating a state more powe...</td>\n",
       "      <td>Two Cheers for Anarchism</td>\n",
       "      <td>38</td>\n",
       "      <td>革命以建立一个比其推翻的国家更强大的国家而告终，而该国家反过来又可以从其计划服务的人口中提取...</td>\n",
       "    </tr>\n",
       "    <tr>\n",
       "      <th>1</th>\n",
       "      <td>bear out the adage of</td>\n",
       "      <td>Two Cheers for Anarchism</td>\n",
       "      <td>5</td>\n",
       "      <td>忍受</td>\n",
       "    </tr>\n",
       "    <tr>\n",
       "      <th>2</th>\n",
       "      <td>“Freedom without socialism is privilege</td>\n",
       "      <td>Two Cheers for Anarchism</td>\n",
       "      <td>5</td>\n",
       "      <td>“没有社会主义的自由就是特权</td>\n",
       "    </tr>\n",
       "    <tr>\n",
       "      <th>3</th>\n",
       "      <td>and injustice; socialism without freedom is sl...</td>\n",
       "      <td>Two Cheers for Anarchism</td>\n",
       "      <td>9</td>\n",
       "      <td>和不公正；没有自由的社会主义就是奴隶制和野蛮。”</td>\n",
       "    </tr>\n",
       "    <tr>\n",
       "      <th>4</th>\n",
       "      <td>nomothetic</td>\n",
       "      <td>Two Cheers for Anarchism</td>\n",
       "      <td>1</td>\n",
       "      <td>adj. 制定法律的；以法律为根据的（副词nomothetically，异体字nomothe...</td>\n",
       "    </tr>\n",
       "    <tr>\n",
       "      <th>5</th>\n",
       "      <td>wary</td>\n",
       "      <td>Two Cheers for Anarchism</td>\n",
       "      <td>1</td>\n",
       "      <td>adj. 谨慎的；机警的；惟恐的；考虑周到的</td>\n",
       "    </tr>\n",
       "    <tr>\n",
       "      <th>6</th>\n",
       "      <td>One thing that heaves into view,</td>\n",
       "      <td>Two Cheers for Anarchism</td>\n",
       "      <td>6</td>\n",
       "      <td>一件事让人眼前一亮，</td>\n",
       "    </tr>\n",
       "    <tr>\n",
       "      <th>7</th>\n",
       "      <td>In light of the</td>\n",
       "      <td>Two Cheers for Anarchism</td>\n",
       "      <td>4</td>\n",
       "      <td>鉴于</td>\n",
       "    </tr>\n",
       "    <tr>\n",
       "      <th>8</th>\n",
       "      <td>huge strides</td>\n",
       "      <td>Two Cheers for Anarchism</td>\n",
       "      <td>2</td>\n",
       "      <td>大步向前</td>\n",
       "    </tr>\n",
       "    <tr>\n",
       "      <th>9</th>\n",
       "      <td>There is no authentic freedom where huge diffe...</td>\n",
       "      <td>Two Cheers for Anarchism</td>\n",
       "      <td>18</td>\n",
       "      <td>没有真正的自由，只有巨大的分歧才能达成自愿协议或交换合法的掠夺物。</td>\n",
       "    </tr>\n",
       "  </tbody>\n",
       "</table>\n",
       "</div>"
      ],
      "text/plain": [
       "                                                note  \\\n",
       "0  revolution ended by creating a state more powe...   \n",
       "1                              bear out the adage of   \n",
       "2            “Freedom without socialism is privilege   \n",
       "3  and injustice; socialism without freedom is sl...   \n",
       "4                                         nomothetic   \n",
       "5                                               wary   \n",
       "6                   One thing that heaves into view,   \n",
       "7                                    In light of the   \n",
       "8                                       huge strides   \n",
       "9  There is no authentic freedom where huge diffe...   \n",
       "\n",
       "                      title  len_  \\\n",
       "0  Two Cheers for Anarchism    38   \n",
       "1  Two Cheers for Anarchism     5   \n",
       "2  Two Cheers for Anarchism     5   \n",
       "3  Two Cheers for Anarchism     9   \n",
       "4  Two Cheers for Anarchism     1   \n",
       "5  Two Cheers for Anarchism     1   \n",
       "6  Two Cheers for Anarchism     6   \n",
       "7  Two Cheers for Anarchism     4   \n",
       "8  Two Cheers for Anarchism     2   \n",
       "9  Two Cheers for Anarchism    18   \n",
       "\n",
       "                                               trans  \n",
       "0  革命以建立一个比其推翻的国家更强大的国家而告终，而该国家反过来又可以从其计划服务的人口中提取...  \n",
       "1                                                 忍受  \n",
       "2                                     “没有社会主义的自由就是特权  \n",
       "3                           和不公正；没有自由的社会主义就是奴隶制和野蛮。”  \n",
       "4  adj. 制定法律的；以法律为根据的（副词nomothetically，异体字nomothe...  \n",
       "5                             adj. 谨慎的；机警的；惟恐的；考虑周到的  \n",
       "6                                         一件事让人眼前一亮，  \n",
       "7                                                 鉴于  \n",
       "8                                               大步向前  \n",
       "9                  没有真正的自由，只有巨大的分歧才能达成自愿协议或交换合法的掠夺物。  "
      ]
     },
     "execution_count": 30,
     "metadata": {},
     "output_type": "execute_result"
    }
   ],
   "source": [
    "note"
   ]
  },
  {
   "cell_type": "code",
   "execution_count": 17,
   "metadata": {
    "ExecuteTime": {
     "end_time": "2021-05-23T08:06:39.101099Z",
     "start_time": "2021-05-23T08:06:39.095715Z"
    }
   },
   "outputs": [
    {
     "data": {
      "text/plain": [
       "0    38\n",
       "1     5\n",
       "2     5\n",
       "3     9\n",
       "4     1\n",
       "5     1\n",
       "6     6\n",
       "7     4\n",
       "8     2\n",
       "9    18\n",
       "Name: note, dtype: int64"
      ]
     },
     "execution_count": 17,
     "metadata": {},
     "output_type": "execute_result"
    }
   ],
   "source": [
    "note['len_'] = note['note'].str.strip(string.punctuation).str.split().apply(len)"
   ]
  },
  {
   "cell_type": "code",
   "execution_count": 18,
   "metadata": {
    "ExecuteTime": {
     "end_time": "2021-05-23T08:06:43.594092Z",
     "start_time": "2021-05-23T08:06:43.584706Z"
    }
   },
   "outputs": [
    {
     "data": {
      "text/html": [
       "<div>\n",
       "<style scoped>\n",
       "    .dataframe tbody tr th:only-of-type {\n",
       "        vertical-align: middle;\n",
       "    }\n",
       "\n",
       "    .dataframe tbody tr th {\n",
       "        vertical-align: top;\n",
       "    }\n",
       "\n",
       "    .dataframe thead th {\n",
       "        text-align: right;\n",
       "    }\n",
       "</style>\n",
       "<table border=\"1\" class=\"dataframe\">\n",
       "  <thead>\n",
       "    <tr style=\"text-align: right;\">\n",
       "      <th></th>\n",
       "      <th>note</th>\n",
       "      <th>title</th>\n",
       "      <th>trans</th>\n",
       "    </tr>\n",
       "  </thead>\n",
       "  <tbody>\n",
       "    <tr>\n",
       "      <th>0</th>\n",
       "      <td>revolution ended by creating a state more powe...</td>\n",
       "      <td>Two Cheers for Anarchism</td>\n",
       "      <td>革命以建立一个比其推翻的国家更强大的国家而告终，而该国家反过来又可以从其计划服务的人口中提取...</td>\n",
       "    </tr>\n",
       "    <tr>\n",
       "      <th>1</th>\n",
       "      <td>bear out the adage of</td>\n",
       "      <td>Two Cheers for Anarchism</td>\n",
       "      <td>忍受</td>\n",
       "    </tr>\n",
       "    <tr>\n",
       "      <th>2</th>\n",
       "      <td>“Freedom without socialism is privilege</td>\n",
       "      <td>Two Cheers for Anarchism</td>\n",
       "      <td>“没有社会主义的自由就是特权</td>\n",
       "    </tr>\n",
       "    <tr>\n",
       "      <th>3</th>\n",
       "      <td>and injustice; socialism without freedom is sl...</td>\n",
       "      <td>Two Cheers for Anarchism</td>\n",
       "      <td>和不公正；没有自由的社会主义就是奴隶制和野蛮。”</td>\n",
       "    </tr>\n",
       "    <tr>\n",
       "      <th>4</th>\n",
       "      <td>nomothetic</td>\n",
       "      <td>Two Cheers for Anarchism</td>\n",
       "      <td>理性的</td>\n",
       "    </tr>\n",
       "    <tr>\n",
       "      <th>5</th>\n",
       "      <td>wary</td>\n",
       "      <td>Two Cheers for Anarchism</td>\n",
       "      <td>警惕</td>\n",
       "    </tr>\n",
       "    <tr>\n",
       "      <th>6</th>\n",
       "      <td>One thing that heaves into view,</td>\n",
       "      <td>Two Cheers for Anarchism</td>\n",
       "      <td>一件事让人眼前一亮，</td>\n",
       "    </tr>\n",
       "    <tr>\n",
       "      <th>7</th>\n",
       "      <td>In light of the</td>\n",
       "      <td>Two Cheers for Anarchism</td>\n",
       "      <td>鉴于</td>\n",
       "    </tr>\n",
       "    <tr>\n",
       "      <th>8</th>\n",
       "      <td>huge strides</td>\n",
       "      <td>Two Cheers for Anarchism</td>\n",
       "      <td>大步向前</td>\n",
       "    </tr>\n",
       "    <tr>\n",
       "      <th>9</th>\n",
       "      <td>There is no authentic freedom where huge diffe...</td>\n",
       "      <td>Two Cheers for Anarchism</td>\n",
       "      <td>没有真正的自由，只有巨大的分歧才能达成自愿协议或交换合法的掠夺物。</td>\n",
       "    </tr>\n",
       "  </tbody>\n",
       "</table>\n",
       "</div>"
      ],
      "text/plain": [
       "                                                note  \\\n",
       "0  revolution ended by creating a state more powe...   \n",
       "1                              bear out the adage of   \n",
       "2            “Freedom without socialism is privilege   \n",
       "3  and injustice; socialism without freedom is sl...   \n",
       "4                                         nomothetic   \n",
       "5                                               wary   \n",
       "6                   One thing that heaves into view,   \n",
       "7                                    In light of the   \n",
       "8                                       huge strides   \n",
       "9  There is no authentic freedom where huge diffe...   \n",
       "\n",
       "                      title                                              trans  \n",
       "0  Two Cheers for Anarchism  革命以建立一个比其推翻的国家更强大的国家而告终，而该国家反过来又可以从其计划服务的人口中提取...  \n",
       "1  Two Cheers for Anarchism                                                 忍受  \n",
       "2  Two Cheers for Anarchism                                     “没有社会主义的自由就是特权  \n",
       "3  Two Cheers for Anarchism                           和不公正；没有自由的社会主义就是奴隶制和野蛮。”  \n",
       "4  Two Cheers for Anarchism                                                理性的  \n",
       "5  Two Cheers for Anarchism                                                 警惕  \n",
       "6  Two Cheers for Anarchism                                         一件事让人眼前一亮，  \n",
       "7  Two Cheers for Anarchism                                                 鉴于  \n",
       "8  Two Cheers for Anarchism                                               大步向前  \n",
       "9  Two Cheers for Anarchism                  没有真正的自由，只有巨大的分歧才能达成自愿协议或交换合法的掠夺物。  "
      ]
     },
     "execution_count": 18,
     "metadata": {},
     "output_type": "execute_result"
    }
   ],
   "source": [
    "note"
   ]
  },
  {
   "cell_type": "code",
   "execution_count": 8,
   "metadata": {
    "ExecuteTime": {
     "end_time": "2021-05-23T07:56:40.885548Z",
     "start_time": "2021-05-23T07:56:40.881216Z"
    }
   },
   "outputs": [
    {
     "data": {
      "text/plain": [
       "['revolution ended by creating a state more powerful than the one it overthrew, a state that in turn was able to extract more resources from and exercise more control over the very populations it was designed to serve.',\n",
       " 'bear out the adage of',\n",
       " '“Freedom without socialism is privilege',\n",
       " 'and injustice; socialism without freedom is slavery and brutality.”',\n",
       " 'nomothetic',\n",
       " 'wary',\n",
       " 'One thing that heaves into view,',\n",
       " 'In light of the',\n",
       " 'huge strides',\n",
       " 'There is no authentic freedom where huge differences make voluntary agreements or exchanges nothing more than legalized plunder.',\n",
       " 'a case in point.',\n",
       " 'far off the mark.',\n",
       " 'Episodes of structural change, therefore, tend to occur only when massive, noninstitutionalized disruption in the form of riots, attacks on property, unruly demonstrations, theft, arson, and open defiance threatens established institutions.',\n",
       " 'wildcat strikers.',\n",
       " 'lay claim to the moral high ground of democratic politics.',\n",
       " 'in vain',\n",
       " 'foot-dragging,',\n",
       " 'de facto',\n",
       " 'large-mesh',\n",
       " 'Forms of informal cooperation, coordination, and action that embody mutuality without hierarchy are the quotidian experience of most people. Only occasionally do they embody implicit or explicit opposition to state law and institutions. Most villages and neighborhoods function precisely because of the informal, transient networks of coordination that do not require formal organization, let alone hierarchy. In other words, the experience of anarchistic mutuality is ubiquitous.']"
      ]
     },
     "execution_count": 8,
     "metadata": {},
     "output_type": "execute_result"
    }
   ],
   "source": [
    "text = note['note'].iloc[:20].tolist()\n",
    "text"
   ]
  },
  {
   "cell_type": "code",
   "execution_count": 9,
   "metadata": {
    "ExecuteTime": {
     "end_time": "2021-05-23T07:58:41.263159Z",
     "start_time": "2021-05-23T07:58:38.615688Z"
    }
   },
   "outputs": [
    {
     "name": "stdout",
     "output_type": "stream",
     "text": [
      "revolution ended by creating a state more powerful than the one it overthrew, a state that in turn was able to extract more resources from and exercise more control over the very populations it was designed to serve.  ->  革命以建立一个比其推翻的国家更强大的国家而告终，而该国家反过来又可以从其计划服务的人口中提取更多资源并对其行使更多控制权。\n",
      "bear out the adage of  ->  忍受\n",
      "“Freedom without socialism is privilege  ->  “没有社会主义的自由就是特权\n",
      "and injustice; socialism without freedom is slavery and brutality.”  ->  和不公正；没有自由的社会主义就是奴隶制和野蛮。”\n",
      "nomothetic  ->  理性的\n",
      "wary  ->  警惕\n",
      "One thing that heaves into view,  ->  一件事让人眼前一亮，\n",
      "In light of the  ->  鉴于\n",
      "huge strides  ->  大步向前\n",
      "There is no authentic freedom where huge differences make voluntary agreements or exchanges nothing more than legalized plunder.  ->  没有真正的自由，只有巨大的分歧才能达成自愿协议或交换合法的掠夺物。\n",
      "a case in point.  ->  一个恰当的例子。\n",
      "far off the mark.  ->  远远没有达到目标。\n",
      "Episodes of structural change, therefore, tend to occur only when massive, noninstitutionalized disruption in the form of riots, attacks on property, unruly demonstrations, theft, arson, and open defiance threatens established institutions.  ->  因此，只有在大规模，非制度化的骚乱，暴动，财产袭击，不守规矩的示威，盗窃，纵火和公开的蔑视威胁已建立的机构的情况下，才会发生结构性变化的事件。\n",
      "wildcat strikers.  ->  野猫射手。\n",
      "lay claim to the moral high ground of democratic politics.  ->  宣称民主政治的道德制高点。\n",
      "in vain  ->  仅在\n",
      "foot-dragging,  ->  拖脚\n",
      "de facto  ->  实际上\n",
      "large-mesh  ->  大网眼\n",
      "Forms of informal cooperation, coordination, and action that embody mutuality without hierarchy are the quotidian experience of most people. Only occasionally do they embody implicit or explicit opposition to state law and institutions. Most villages and neighborhoods function precisely because of the informal, transient networks of coordination that do not require formal organization, let alone hierarchy. In other words, the experience of anarchistic mutuality is ubiquitous.  ->  非正式的合作，协调和行动形式体现了彼此之间没有等级的相互依存感，这是大多数人的日常经验。它们只是偶尔表现出对州法律和机构的暗含或明示反对。大多数村庄和邻里之所以能正常运作，是因为非正式，短暂的协调网络不需要正式组织，更不用说等级制了。换句话说，无政府主义互助的经验无处不在。\n"
     ]
    }
   ],
   "source": []
  },
  {
   "cell_type": "code",
   "execution_count": 57,
   "metadata": {
    "ExecuteTime": {
     "end_time": "2021-05-23T07:42:28.136461Z",
     "start_time": "2021-05-23T07:42:28.133081Z"
    }
   },
   "outputs": [
    {
     "data": {
      "text/plain": [
       "'revolution ended by creating a state more powerful than the one it overthrew, a state that in turn was able to extract more resources from and exercise more control over the very populations it was designed to serve.'"
      ]
     },
     "execution_count": 57,
     "metadata": {},
     "output_type": "execute_result"
    }
   ],
   "source": [
    "text"
   ]
  },
  {
   "cell_type": "code",
   "execution_count": null,
   "metadata": {},
   "outputs": [],
   "source": []
  },
  {
   "cell_type": "code",
   "execution_count": null,
   "metadata": {},
   "outputs": [],
   "source": [
    "titles = []\n",
    "texts = []\n",
    "\n",
    "\n",
    "\n",
    "if __name__=='__main__':\n",
    "    # read in command like arguments\n",
    "    parser = argparse.ArgumentParser()\n",
    "    parser.add_argument(\"-source\", type=str, default=\"/Volumes/Kindle/documents/My Clippings.txt\")\n",
    "    parser.add_argument(\"-showtitle\", type=bool, default=False)\n",
    "    parser.add_argument(\"-title\", type=str, default='')\n",
    "    parser.add_argument(\"-dest\", type=str, default='')\n",
    "    args = parser.parse_args()\n",
    "    \n",
    "    df = main(args.source)\n",
    "    if args.showtitle==True:\n",
    "        print('\\n\\n'.join(df.title.unique().tolist()))\n",
    "    if args.title!='' and args.dest!='':\n",
    "        if args.title not in df.title.tolist():\n",
    "            print(\"Error: book title is not in file\")\n",
    "            sys.exit()\n",
    "\n",
    "        else:\n",
    "            text_file =  open(args.dest,'w') \n",
    "            text_file.write('\\n\\n\\n'.join(df[df['title']=='No Filter (Sarah Frier)']['note'].tolist()))\n",
    "            text_file.close()\n",
    "                "
   ]
  }
 ],
 "metadata": {
  "hide_input": false,
  "kernelspec": {
   "display_name": "Python 3",
   "language": "python",
   "name": "python3"
  },
  "language_info": {
   "codemirror_mode": {
    "name": "ipython",
    "version": 3
   },
   "file_extension": ".py",
   "mimetype": "text/x-python",
   "name": "python",
   "nbconvert_exporter": "python",
   "pygments_lexer": "ipython3",
   "version": "3.7.3"
  },
  "toc": {
   "base_numbering": 1,
   "nav_menu": {},
   "number_sections": true,
   "sideBar": true,
   "skip_h1_title": false,
   "title_cell": "Table of Contents",
   "title_sidebar": "Contents",
   "toc_cell": false,
   "toc_position": {},
   "toc_section_display": true,
   "toc_window_display": false
  },
  "varInspector": {
   "cols": {
    "lenName": 16,
    "lenType": 16,
    "lenVar": 40
   },
   "kernels_config": {
    "python": {
     "delete_cmd_postfix": "",
     "delete_cmd_prefix": "del ",
     "library": "var_list.py",
     "varRefreshCmd": "print(var_dic_list())"
    },
    "r": {
     "delete_cmd_postfix": ") ",
     "delete_cmd_prefix": "rm(",
     "library": "var_list.r",
     "varRefreshCmd": "cat(var_dic_list()) "
    }
   },
   "types_to_exclude": [
    "module",
    "function",
    "builtin_function_or_method",
    "instance",
    "_Feature"
   ],
   "window_display": false
  }
 },
 "nbformat": 4,
 "nbformat_minor": 4
}
